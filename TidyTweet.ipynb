{
 "cells": [
  {
   "cell_type": "markdown",
   "metadata": {},
   "source": [
    "# TidyTweet : Using Twitter API To Data Clean & Data Mine"
   ]
  },
  {
   "cell_type": "markdown",
   "metadata": {},
   "source": [
    "In this data cleaning project, I use Twitter's tweepy app to scrape data on statuses using hashtag --- (#---). \n",
    "I then use Python to analyze patterns and report my findings using Tableau. After installing tweepy, authenticate my access tokens and credentials. Credentials are tested using verify_credentials(). If all goes well, you should see a message saying Authentication OK."
   ]
  },
  {
   "cell_type": "code",
   "execution_count": 14,
   "metadata": {},
   "outputs": [
    {
     "name": "stdout",
     "output_type": "stream",
     "text": [
      "Requirement already satisfied: tweepy in /Users/lucile/opt/anaconda3/lib/python3.8/site-packages (3.10.0)\n",
      "Requirement already satisfied: requests-oauthlib>=0.7.0 in /Users/lucile/opt/anaconda3/lib/python3.8/site-packages (from tweepy) (1.3.0)\n",
      "Requirement already satisfied: requests[socks]>=2.11.1 in /Users/lucile/opt/anaconda3/lib/python3.8/site-packages (from tweepy) (2.24.0)\n",
      "Requirement already satisfied: six>=1.10.0 in /Users/lucile/opt/anaconda3/lib/python3.8/site-packages (from tweepy) (1.15.0)\n",
      "Requirement already satisfied: oauthlib>=3.0.0 in /Users/lucile/opt/anaconda3/lib/python3.8/site-packages (from requests-oauthlib>=0.7.0->tweepy) (3.1.0)\n",
      "Requirement already satisfied: chardet<4,>=3.0.2 in /Users/lucile/opt/anaconda3/lib/python3.8/site-packages (from requests[socks]>=2.11.1->tweepy) (3.0.4)\n",
      "Requirement already satisfied: urllib3!=1.25.0,!=1.25.1,<1.26,>=1.21.1 in /Users/lucile/opt/anaconda3/lib/python3.8/site-packages (from requests[socks]>=2.11.1->tweepy) (1.25.11)\n",
      "Requirement already satisfied: certifi>=2017.4.17 in /Users/lucile/opt/anaconda3/lib/python3.8/site-packages (from requests[socks]>=2.11.1->tweepy) (2020.6.20)\n",
      "Requirement already satisfied: idna<3,>=2.5 in /Users/lucile/opt/anaconda3/lib/python3.8/site-packages (from requests[socks]>=2.11.1->tweepy) (2.10)\n",
      "Requirement already satisfied: PySocks!=1.5.7,>=1.5.6; extra == \"socks\" in /Users/lucile/opt/anaconda3/lib/python3.8/site-packages (from requests[socks]>=2.11.1->tweepy) (1.7.1)\n",
      "Note: you may need to restart the kernel to use updated packages.\n"
     ]
    }
   ],
   "source": [
    "pip install tweepy"
   ]
  },
  {
   "cell_type": "code",
   "execution_count": 13,
   "metadata": {},
   "outputs": [
    {
     "name": "stdout",
     "output_type": "stream",
     "text": [
      "Authentication OK\n"
     ]
    }
   ],
   "source": [
    "import tweepy\n",
    "\n",
    "# Authenticate to Twitter\n",
    "auth = tweepy.OAuthHandler(\"lGGh8vg5htlMrQT5PVmWd0IVB\", \n",
    "    \"1RWoLSAYogNuroBpJu4VtECRMyZOpQORI5ZuxiKPWkjQuhR068\")\n",
    "auth.set_access_token(\"1090324373871964160-wJmvxAzAZs5y2Rti1DdtxKuj7okfbg\", \n",
    "    \"EUAfBss2GC0F9FSpGYzyGevdcErgZYGgQjavSdbaiPTnk\")\n",
    "\n",
    "api = tweepy.API(auth)\n",
    "\n",
    "try:\n",
    "    api.verify_credentials()\n",
    "    print(\"Authentication OK\")\n",
    "except:\n",
    "    print(\"Error during authentication\")"
   ]
  },
  {
   "cell_type": "markdown",
   "metadata": {},
   "source": [
    "## Review of Tweepy Functionality"
   ]
  },
  {
   "cell_type": "markdown",
   "metadata": {},
   "source": [
    "One thing to note is even though the names of various Twitter concepts have evolved, some old names are still used in Tweepy.\n",
    "For the purpose of this notebook you should keep in mind three big equivalences:\n",
    "* A status is a tweet.\n",
    "* A friendship is a follow-follower relationship.\n",
    "* A favorite is a like."
   ]
  },
  {
   "cell_type": "markdown",
   "metadata": {},
   "source": [
    "Tweepy’s functionality can be divided into the following groups:\n",
    "\n",
    "* OAuth\n",
    "* The API class\n",
    "* Models\n",
    "* Cursors\n",
    "* Streams"
   ]
  },
  {
   "cell_type": "markdown",
   "metadata": {},
   "source": [
    "To keep things orderly I will cover each of these groups in a chronological order. To begin, let's dive in to **OAuth**. I basically enter in the authenticating codes I generated from the Twitter Developer portal and grant access.\n",
    "\n"
   ]
  },
  {
   "cell_type": "code",
   "execution_count": 21,
   "metadata": {},
   "outputs": [],
   "source": [
    "import tweepy\n",
    "\n",
    "# Authenticate to Twitter\n",
    "auth = tweepy.OAuthHandler(\"lGGh8vg5htlMrQT5PVmWd0IVB\", \"1RWoLSAYogNuroBpJu4VtECRMyZOpQORI5ZuxiKPWkjQuhR068\")\n",
    "auth.set_access_token(\"1090324373871964160-wJmvxAzAZs5y2Rti1DdtxKuj7okfbg\", \"EUAfBss2GC0F9FSpGYzyGevdcErgZYGgQjavSdbaiPTnk\")"
   ]
  },
  {
   "cell_type": "markdown",
   "metadata": {},
   "source": [
    "Next, I create an **API object** that I can use to invoke Twitter API methods. Setting wait_on_rate_limit and wait_on_rate_limit_notify to True makes the API object print a message and wait if the rate limit is exceeded:"
   ]
  },
  {
   "cell_type": "code",
   "execution_count": 25,
   "metadata": {},
   "outputs": [],
   "source": [
    "# Create API object\n",
    "api = tweepy.API(auth, wait_on_rate_limit=True,\n",
    "    wait_on_rate_limit_notify=True)"
   ]
  },
  {
   "cell_type": "markdown",
   "metadata": {},
   "source": [
    "There are many (many, many) methods you can use but for today I will focus on one: Streaming.\n",
    "\n",
    "**Streaming** allows you to actively watch for tweets that match certain criteria in real time. This means that when there aren’t any new tweet matching the criteria, then the program will wait until a new tweet is created and then process it.\n",
    "Be it, this analysis was streamed during the last 10 minutes of 2021 Valentines Day (2/14/21 11:50 PM - 2/15/21 12:00 AM)\n",
    "\n",
    "To use streaming you have to create two objects:\n",
    "\n",
    "The stream object uses the Twitter API to get tweets that match some criteria. This object is the source of tweets that are then processed by a stream listener.\n",
    "The stream listener receives tweets from the stream.\n",
    "\n"
   ]
  },
  {
   "cell_type": "code",
   "execution_count": null,
   "metadata": {},
   "outputs": [],
   "source": [
    "import json\n",
    "import tweepy\n",
    "\n",
    "class MyStreamListener(tweepy.StreamListener):\n",
    "    def __init__(self, api):\n",
    "        self.api = api\n",
    "        self.me = api.me()\n",
    "\n",
    "    def on_status(self, tweet):\n",
    "        print(f\"{tweet.user.name}:{tweet.text}\")\n",
    "\n",
    "    def on_error(self, status):\n",
    "        print(\"Error detected\")\n",
    "\n",
    "# Authenticate to Twitter\n",
    "auth = tweepy.OAuthHandler(\"lGGh8vg5htlMrQT5PVmWd0IVB\", \"1RWoLSAYogNuroBpJu4VtECRMyZOpQORI5ZuxiKPWkjQuhR068\")\n",
    "auth.set_access_token(\"1090324373871964160-wJmvxAzAZs5y2Rti1DdtxKuj7okfbg\", \"EUAfBss2GC0F9FSpGYzyGevdcErgZYGgQjavSdbaiPTnk\")\n",
    "\n",
    "# Create API object\n",
    "api = tweepy.API(auth, wait_on_rate_limit=True,\n",
    "    wait_on_rate_limit_notify=True)\n",
    "\n",
    "tweets_listener = MyStreamListener(api)\n",
    "stream = tweepy.Stream(api.auth, tweets_listener)\n",
    "stream.filter(track=[\"Valentines\", \"Django\", \"Tweepy\"], languages=[\"en\"])"
   ]
  }
 ],
 "metadata": {
  "kernelspec": {
   "display_name": "Python 3",
   "language": "python",
   "name": "python3"
  },
  "language_info": {
   "codemirror_mode": {
    "name": "ipython",
    "version": 3
   },
   "file_extension": ".py",
   "mimetype": "text/x-python",
   "name": "python",
   "nbconvert_exporter": "python",
   "pygments_lexer": "ipython3",
   "version": "3.8.5"
  }
 },
 "nbformat": 4,
 "nbformat_minor": 4
}
